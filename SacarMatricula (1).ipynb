{
  "nbformat": 4,
  "nbformat_minor": 0,
  "metadata": {
    "colab": {
      "provenance": []
    },
    "kernelspec": {
      "name": "python3",
      "display_name": "Python 3"
    },
    "language_info": {
      "name": "python"
    }
  },
  "cells": [
    {
      "cell_type": "code",
      "source": [
        "def extraer_fila_con_matricula(archivo_txt):\n",
        "    # Leer el contenido del archivo\n",
        "    with open(archivo_txt, 'r', encoding='utf-8') as archivo:\n",
        "        lineas = archivo.readlines()\n",
        "\n",
        "    # Buscar la palabra \"matricula\" y quedarse con la fila entera\n",
        "    filas_con_matricula = [linea.strip() for linea in lineas if 'matricula' in linea.lower()]\n",
        "\n",
        "    return filas_con_matricula\n",
        "\n",
        "# Reemplaza 'tu_archivo.txt' con el nombre de tu archivo de texto\n",
        "archivo_txt = '/content/drive/MyDrive/Inbox.txt'\n",
        "resultado = extraer_fila_con_matricula(archivo_txt)\n",
        "\n",
        "# Imprimir el resultado\n",
        "for fila in resultado:\n",
        "    print(fila)"
      ],
      "metadata": {
        "colab": {
          "base_uri": "https://localhost:8080/"
        },
        "id": "tyUvDsrEkHQN",
        "outputId": "5495aabd-fcdb-4698-f816-aa41b3cbdcf4"
      },
      "execution_count": null,
      "outputs": [
        {
          "output_type": "stream",
          "name": "stdout",
          "text": [
            "Matricula: C047057-R\n",
            "Fecha de matriculaci=C3=B3n: 24/02/1975\n",
            "> matricula del automovil y la fecha de matriculaci=C3=B3n , asi como el co=\n",
            "iv><div>Matricula: C047057-R</div><div>Fecha de matriculaci=C3=B3n: 24/02/1=\n",
            "matricula del automovil y la fecha de matriculaci=C3=B3n , asi como el colo=\n"
          ]
        }
      ]
    },
    {
      "cell_type": "code",
      "source": [
        "from bs4 import BeautifulSoup\n",
        "\n",
        "def extraer_linea_con_matricula(archivo_html):\n",
        "    # Leer el contenido del archivo\n",
        "    with open(archivo_html, 'r', encoding='utf-8') as archivo:\n",
        "        contenido = archivo.read()\n",
        "\n",
        "    # Crear un objeto BeautifulSoup\n",
        "    soup = BeautifulSoup(contenido, 'html.parser')\n",
        "\n",
        "    # Buscar la palabra \"matricula\" y obtener la línea completa\n",
        "    linea_con_matricula = next((linea.strip() for linea in contenido.split('\\n') if 'matricula' in linea.lower()), None)\n",
        "\n",
        "    return linea_con_matricula\n",
        "\n",
        "# Reemplaza 'tu_archivo.html' con el nombre de tu archivo HTML\n",
        "archivo_html = '/content/drive/MyDrive/Inbox'\n",
        "resultado = extraer_linea_con_matricula(archivo_html)\n",
        "\n",
        "# Imprimir el resultado\n",
        "if resultado:\n",
        "    print(resultado)\n",
        "\n"
      ],
      "metadata": {
        "colab": {
          "base_uri": "https://localhost:8080/"
        },
        "id": "ujCNjScioOvA",
        "outputId": "cde7cb07-685d-4c51-9055-f71f238762f5"
      },
      "execution_count": 12,
      "outputs": [
        {
          "output_type": "stream",
          "name": "stdout",
          "text": [
            "Matricula: C047057-R\n"
          ]
        }
      ]
    }
  ]
}