{
  "nbformat": 4,
  "nbformat_minor": 0,
  "metadata": {
    "colab": {
      "provenance": []
    },
    "kernelspec": {
      "name": "python3",
      "display_name": "Python 3"
    },
    "language_info": {
      "name": "python"
    }
  },
  "cells": [
    {
      "cell_type": "code",
      "source": [
        "def extraer_fila_con_matricula(archivo_txt):\n",
        "    # Leer el contenido del archivo\n",
        "    with open(archivo_txt, 'r', encoding='utf-8') as archivo:\n",
        "        lineas = archivo.readlines()\n",
        "\n",
        "    # Buscar la palabra \"matricula\" y quedarse con la fila entera\n",
        "    filas_con_matricula = [linea.strip() for linea in lineas if 'matricula' in linea.lower()]\n",
        "\n",
        "    return filas_con_matricula\n",
        "\n",
        "# Reemplaza 'tu_archivo.txt' con el nombre de tu archivo de texto\n",
        "archivo_txt = '/content/drive/MyDrive/Inbox.txt'\n",
        "resultado = extraer_fila_con_matricula(archivo_txt)\n",
        "\n",
        "# Imprimir el resultado\n",
        "for fila in resultado:\n",
        "    print(fila)"
      ],
      "metadata": {
        "colab": {
          "base_uri": "https://localhost:8080/"
        },
        "id": "tyUvDsrEkHQN",
        "outputId": "5495aabd-fcdb-4698-f816-aa41b3cbdcf4"
      },
      "execution_count": 3,
      "outputs": [
        {
          "output_type": "stream",
          "name": "stdout",
          "text": [
            "Matricula: C047057-R\n",
            "Fecha de matriculaci=C3=B3n: 24/02/1975\n",
            "> matricula del automovil y la fecha de matriculaci=C3=B3n , asi como el co=\n",
            "iv><div>Matricula: C047057-R</div><div>Fecha de matriculaci=C3=B3n: 24/02/1=\n",
            "matricula del automovil y la fecha de matriculaci=C3=B3n , asi como el colo=\n"
          ]
        }
      ]
    }
  ]
}